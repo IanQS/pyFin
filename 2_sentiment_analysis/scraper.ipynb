{
 "cells": [
  {
   "cell_type": "code",
   "execution_count": 7,
   "metadata": {
    "ExecuteTime": {
     "end_time": "2017-10-22T20:54:01.396528Z",
     "start_time": "2017-10-22T20:54:01.392697Z"
    }
   },
   "outputs": [],
   "source": [
    "from newsapi.articles import Articles\n",
    "from newsapi.sources import Sources"
   ]
  },
  {
   "cell_type": "code",
   "execution_count": 70,
   "metadata": {
    "ExecuteTime": {
     "end_time": "2017-10-22T21:13:49.252422Z",
     "start_time": "2017-10-22T21:13:49.026024Z"
    }
   },
   "outputs": [],
   "source": [
    "csv_key = \"\"\n",
    "with open(\"api_key.txt\") as f:\n",
    "    csv_key = f.readlines()[0].strip()\n",
    "    \n",
    "a = Articles(API_KEY=csv_key)\n",
    "s = Sources(API_KEY=csv_key)\n",
    "data_sources = s.get_by_category(\"business\").sources \n",
    "# newsapi apparently has error handling, so we're not checking status"
   ]
  },
  {
   "cell_type": "code",
   "execution_count": 72,
   "metadata": {
    "ExecuteTime": {
     "end_time": "2017-10-22T21:13:59.314640Z",
     "start_time": "2017-10-22T21:13:59.308666Z"
    }
   },
   "outputs": [
    {
     "name": "stdout",
     "output_type": "stream",
     "text": [
      "{'id': 'bloomberg', 'name': 'Bloomberg', 'description': 'Bloomberg delivers business and markets news, data, analysis, and video to the world, featuring stories from Businessweek and Bloomberg News.', 'url': 'http://www.bloomberg.com', 'category': 'business', 'language': 'en', 'country': 'us', 'urlsToLogos': {'small': '', 'medium': '', 'large': ''}, 'sortBysAvailable': ['top']}\n",
      "{'id': 'business-insider', 'name': 'Business Insider', 'description': 'Business Insider is a fast-growing business site with deep financial, media, tech, and other industry verticals. Launched in 2007, the site is now the largest business news site on the web.', 'url': 'http://www.businessinsider.com', 'category': 'business', 'language': 'en', 'country': 'us', 'urlsToLogos': {'small': '', 'medium': '', 'large': ''}, 'sortBysAvailable': ['top', 'latest']}\n",
      "{'id': 'business-insider-uk', 'name': 'Business Insider (UK)', 'description': 'Business Insider is a fast-growing business site with deep financial, media, tech, and other industry verticals. Launched in 2007, the site is now the largest business news site on the web.', 'url': 'http://uk.businessinsider.com', 'category': 'business', 'language': 'en', 'country': 'gb', 'urlsToLogos': {'small': '', 'medium': '', 'large': ''}, 'sortBysAvailable': ['top', 'latest']}\n",
      "{'id': 'cnbc', 'name': 'CNBC', 'description': 'Get latest business news on stock markets, financial & earnings on CNBC. View world markets streaming charts & video; check stock tickers and quotes.', 'url': 'http://www.cnbc.com', 'category': 'business', 'language': 'en', 'country': 'us', 'urlsToLogos': {'small': '', 'medium': '', 'large': ''}, 'sortBysAvailable': ['top']}\n",
      "{'id': 'die-zeit', 'name': 'Die Zeit', 'description': 'Aktuelle Nachrichten, Kommentare, Analysen und Hintergrundberichte aus Politik, Wirtschaft, Gesellschaft, Wissen, Kultur und Sport lesen Sie auf ZEIT ONLINE.', 'url': 'http://www.zeit.de/index', 'category': 'business', 'language': 'de', 'country': 'de', 'urlsToLogos': {'small': '', 'medium': '', 'large': ''}, 'sortBysAvailable': ['latest']}\n",
      "{'id': 'financial-times', 'name': 'Financial Times', 'description': 'The latest UK and international business, finance, economic and political news, comment and analysis from the Financial Times on FT.com.', 'url': 'http://www.ft.com/home/uk', 'category': 'business', 'language': 'en', 'country': 'gb', 'urlsToLogos': {'small': '', 'medium': '', 'large': ''}, 'sortBysAvailable': ['top', 'latest']}\n",
      "{'id': 'fortune', 'name': 'Fortune', 'description': 'Fortune 500 Daily and Breaking Business News', 'url': 'http://fortune.com', 'category': 'business', 'language': 'en', 'country': 'us', 'urlsToLogos': {'small': '', 'medium': '', 'large': ''}, 'sortBysAvailable': ['top', 'latest']}\n",
      "{'id': 'handelsblatt', 'name': 'Handelsblatt', 'description': 'Auf Handelsblatt lesen sie Nachrichten über Unternehmen, Finanzen, Politik und Technik. Verwalten Sie Ihre Finanzanlagen mit Hilfe unserer Börsenkurse.', 'url': 'http://www.handelsblatt.com', 'category': 'business', 'language': 'de', 'country': 'de', 'urlsToLogos': {'small': '', 'medium': '', 'large': ''}, 'sortBysAvailable': ['latest']}\n",
      "{'id': 'the-economist', 'name': 'The Economist', 'description': 'The Economist offers authoritative insight and opinion on international news, politics, business, finance, science, technology and the connections between them.', 'url': 'http://www.economist.com', 'category': 'business', 'language': 'en', 'country': 'gb', 'urlsToLogos': {'small': '', 'medium': '', 'large': ''}, 'sortBysAvailable': ['top', 'latest']}\n",
      "{'id': 'the-wall-street-journal', 'name': 'The Wall Street Journal', 'description': 'WSJ online coverage of breaking news and current headlines from the US and around the world. Top stories, photos, videos, detailed analysis and in-depth reporting.', 'url': 'http://www.wsj.com', 'category': 'business', 'language': 'en', 'country': 'us', 'urlsToLogos': {'small': '', 'medium': '', 'large': ''}, 'sortBysAvailable': ['top']}\n",
      "{'id': 'wirtschafts-woche', 'name': 'Wirtschafts Woche', 'description': 'Das Online-Portal des führenden Wirtschaftsmagazins in Deutschland. Das Entscheidende zu Unternehmen, Finanzen, Erfolg und Technik.', 'url': 'http://www.wiwo.de', 'category': 'business', 'language': 'de', 'country': 'de', 'urlsToLogos': {'small': '', 'medium': '', 'large': ''}, 'sortBysAvailable': ['latest']}\n"
     ]
    }
   ],
   "source": [
    "for el in data_sources:\n",
    "    print(el)"
   ]
  },
  {
   "cell_type": "code",
   "execution_count": null,
   "metadata": {
    "collapsed": true
   },
   "outputs": [],
   "source": []
  }
 ],
 "metadata": {
  "kernelspec": {
   "display_name": "Python 3",
   "language": "python",
   "name": "python3"
  },
  "language_info": {
   "codemirror_mode": {
    "name": "ipython",
    "version": 3
   },
   "file_extension": ".py",
   "mimetype": "text/x-python",
   "name": "python",
   "nbconvert_exporter": "python",
   "pygments_lexer": "ipython3",
   "version": "3.6.2"
  },
  "toc": {
   "colors": {
    "hover_highlight": "#DAA520",
    "navigate_num": "#000000",
    "navigate_text": "#333333",
    "running_highlight": "#FF0000",
    "selected_highlight": "#FFD700",
    "sidebar_border": "#EEEEEE",
    "wrapper_background": "#FFFFFF"
   },
   "moveMenuLeft": true,
   "nav_menu": {
    "height": "12px",
    "width": "252px"
   },
   "navigate_menu": true,
   "number_sections": true,
   "sideBar": true,
   "threshold": 4,
   "toc_cell": false,
   "toc_section_display": "block",
   "toc_window_display": false,
   "widenNotebook": false
  }
 },
 "nbformat": 4,
 "nbformat_minor": 2
}
