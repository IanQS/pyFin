{
 "cells": [
  {
   "cell_type": "code",
   "execution_count": 1,
   "metadata": {
    "ExecuteTime": {
     "end_time": "2017-10-09T17:34:38.198661Z",
     "start_time": "2017-10-09T17:34:31.769682Z"
    }
   },
   "outputs": [
    {
     "name": "stderr",
     "output_type": "stream",
     "text": [
      "/home/ian/.virtualenvs/ml_pytorch/lib/python3.6/site-packages/matplotlib/cbook.py:136: MatplotlibDeprecationWarning: The finance module has been deprecated in mpl 2.0 and will be removed in mpl 2.2. Please use the module mpl_finance instead.\n",
      "  warnings.warn(message, mplDeprecation, stacklevel=1)\n"
     ]
    }
   ],
   "source": [
    "# Handle the plotting\n",
    "import matplotlib.pyplot as plt\n",
    "from matplotlib import style\n",
    "from matplotlib.finance import candlestick_ohlc\n",
    "import matplotlib.dates as mdates\n",
    "style.use(\"seaborn-deep\")\n",
    "\n",
    "# For data processing\n",
    "import pandas as pd\n",
    "import datetime as dt\n",
    "import numpy as np\n",
    "import pickle\n",
    "\n",
    "# For getting the data\n",
    "import pandas_datareader.data as web\n",
    "\n",
    "import os\n",
    "from collections import Counter"
   ]
  },
  {
   "cell_type": "code",
   "execution_count": 2,
   "metadata": {
    "ExecuteTime": {
     "end_time": "2017-10-09T17:34:38.205084Z",
     "start_time": "2017-10-09T17:34:38.201170Z"
    },
    "collapsed": true
   },
   "outputs": [],
   "source": [
    "data_src=\"S&P500_joined_adj-close.csv\""
   ]
  },
  {
   "cell_type": "code",
   "execution_count": null,
   "metadata": {
    "ExecuteTime": {
     "start_time": "2017-10-09T17:35:18.061Z"
    }
   },
   "outputs": [],
   "source": [
    "def visualize_corr(data_src,plot_parts=True, heatmap=True):\n",
    "    \"\"\"\n",
    "    data_src: \n",
    "        string\n",
    "        string where the data is stored\n",
    "        \n",
    "    plot_parts:\n",
    "        Bool\n",
    "        whether to constrict the values of the graph when plotting\n",
    "        - only used when heatmap is True\n",
    "        \n",
    "    heatmap:\n",
    "        Bool\n",
    "        whether to use a colored heatmap when plotting\n",
    "    \"\"\"\n",
    "    \n",
    "    df = pd.read_csv(data_src)\n",
    "    corr = df.corr()\n",
    "    \n",
    "    if not os.path.exists(\"imgs/\"):\n",
    "        os.mkdir(\"imgs/\")\n",
    "\n",
    "    if heatmap:\n",
    "        if not plot_parts:\n",
    "            corr_dict = {\"whole\": [corr, (-1, 1)]}\n",
    "        else:\n",
    "            sP = corr.where(corr >0.50, 0.5)\n",
    "            wP = corr.where((corr <=0.50) & (corr > 0), 0)\n",
    "            sN = corr.where(corr <= -0.50, -0.5)\n",
    "            wN = corr.where((corr > -0.50) & (corr <=0), -0.5)\n",
    "            corr_dict = {\"sP\": [sP, (0.5, 1)], \"wP\": [wP, (0, 0.5)], \n",
    "                         \"sN\": [sN, (-1, -0.5)], \"wN\": [wN, (-0.5, 0)]}\n",
    "        # We put the default as the min value since it's unlikely to happen\n",
    "\n",
    "        for k, [corr_matrix, range_] in corr_dict.items():\n",
    "            data = corr_matrix.values\n",
    "            fig = plt.figure(figsize=(30, 30))\n",
    "            ax = fig.add_subplot(1,1,1)\n",
    "\n",
    "            heatmap = ax.pcolor(data, cmap=plt.cm.RdYlGn)\n",
    "            fig.colorbar(heatmap)\n",
    "            ax.set_xticks(np.arange(data.shape[0]) + 0.5, minor=False)\n",
    "            ax.set_yticks(np.arange(data.shape[1]) + 0.5, minor=False)\n",
    "            ax.invert_yaxis()\n",
    "            ax.xaxis.tick_top()\n",
    "\n",
    "            column_labels = corr_matrix.columns\n",
    "            row_labels = corr_matrix.index\n",
    "\n",
    "            ax.set_xticklabels(column_labels)\n",
    "            ax.set_yticklabels(row_labels)\n",
    "            plt.xticks(rotation=90)\n",
    "            heatmap.set_clim(range_)\n",
    "            plt.tight_layout()\n",
    "            plt.savefig(\"imgs/{0}_heatmap.png\".format(k), dpi=300)\n",
    "            plt.close()\n",
    "\n",
    "            # Upon inspection we see that there are some \n",
    "            # correlations between the data, which means\n",
    "            # we could probably try to predict things?\n",
    "    else:\n",
    "        sP = corr >0.50\n",
    "        wP = (corr <= 0.50) & (corr > 0)\n",
    "        sN = corr <= -0.50\n",
    "        wN = (corr > -0.50) & (corr <= 0)\n",
    "\n",
    "        corr_dict = {\"sP\": sP, \"wP\": wP, \"sN\": sN, \"wN\": wN}\n",
    "\n",
    "        for k, corr_matrix in corr_dict.items():\n",
    "            data = corr_matrix.values\n",
    "            fig = plt.figure(figsize=(30, 30))\n",
    "            ax = fig.add_subplot(1,1,1)\n",
    "\n",
    "            heatmap = ax.pcolor(data, cmap=\"Greys\")\n",
    "            ax.set_xticks(np.arange(data.shape[0]) + 0.5, minor=False)\n",
    "            ax.set_yticks(np.arange(data.shape[1]) + 0.5, minor=False)\n",
    "            ax.invert_yaxis()\n",
    "            ax.xaxis.tick_top()\n",
    "\n",
    "            column_labels = corr_matrix.columns\n",
    "            row_labels = corr_matrix.index\n",
    "\n",
    "            ax.set_xticklabels(column_labels)\n",
    "            ax.set_yticklabels(row_labels)\n",
    "            plt.xticks(rotation=90)\n",
    "            plt.tight_layout()\n",
    "            plt.title(\"Graph of {0}\".format(k))\n",
    "            plt.savefig(\"imgs/{0}_boolean.png\".format(k), dpi=300)\n",
    "            plt.close()\n",
    "\n",
    "\"\"\"\n",
    "I'm personally finding the grey maps of booleans to be easier to \n",
    "interpret than the heatmaps so I added a flag to visualize either.\n",
    "\"\"\"    \n",
    "\n",
    "visualize_corr(data_src=data_src, plot_parts=True, heatmap=True)\n",
    "print()"
   ]
  },
  {
   "cell_type": "code",
   "execution_count": null,
   "metadata": {
    "collapsed": true
   },
   "outputs": [],
   "source": []
  }
 ],
 "metadata": {
  "kernelspec": {
   "display_name": "Python 3",
   "language": "python",
   "name": "python3"
  },
  "language_info": {
   "codemirror_mode": {
    "name": "ipython",
    "version": 3
   },
   "file_extension": ".py",
   "mimetype": "text/x-python",
   "name": "python",
   "nbconvert_exporter": "python",
   "pygments_lexer": "ipython3",
   "version": "3.6.2"
  },
  "toc": {
   "colors": {
    "hover_highlight": "#DAA520",
    "navigate_num": "#000000",
    "navigate_text": "#333333",
    "running_highlight": "#FF0000",
    "selected_highlight": "#FFD700",
    "sidebar_border": "#EEEEEE",
    "wrapper_background": "#FFFFFF"
   },
   "moveMenuLeft": true,
   "nav_menu": {
    "height": "12px",
    "width": "252px"
   },
   "navigate_menu": true,
   "number_sections": true,
   "sideBar": true,
   "threshold": 4,
   "toc_cell": false,
   "toc_section_display": "block",
   "toc_window_display": false,
   "widenNotebook": false
  }
 },
 "nbformat": 4,
 "nbformat_minor": 2
}
