{
 "cells": [
  {
   "cell_type": "code",
   "execution_count": 2,
   "metadata": {
    "ExecuteTime": {
     "end_time": "2017-08-21T17:10:55.547206Z",
     "start_time": "2017-08-21T17:10:38.365194Z"
    }
   },
   "outputs": [
    {
     "name": "stderr",
     "output_type": "stream",
     "text": [
      "/home/ian/.virtualenvs/ml_pytorch/lib/python3.6/site-packages/fix_yahoo_finance/__init__.py:43: DeprecationWarning: \n",
      "    Auto-overriding of pandas_datareader's get_data_yahoo() is deprecated and will be removed in future versions.\n",
      "    Use pdr_override() to explicitly override it.\n",
      "  DeprecationWarning)\n"
     ]
    }
   ],
   "source": [
    "import bs4 as bs\n",
    "import pickle\n",
    "import datetime as dt\n",
    "import os\n",
    "import pandas as pd\n",
    "import pandas_datareader.data as web\n",
    "import fix_yahoo_finance\n",
    "\n",
    "import requests"
   ]
  },
  {
   "cell_type": "code",
   "execution_count": 3,
   "metadata": {
    "ExecuteTime": {
     "end_time": "2017-08-21T17:10:55.574178Z",
     "start_time": "2017-08-21T17:10:55.551774Z"
    },
    "collapsed": true
   },
   "outputs": [],
   "source": [
    "def save_SP500():\n",
    "    resp = requests.get(\"https://en.wikipedia.org/wiki/List_of_S%26P_500_companies\")\n",
    "    soup = bs.BeautifulSoup(resp.text,\"html5lib\")\n",
    "    table = soup.find(\"table\", {\"class\": \"wikitable sortable\"})\n",
    "    tickers = []\n",
    "    for row in table.findAll(\"tr\")[1:]:\n",
    "        ticker = row.findAll(\"td\")[0].text\n",
    "        tickers.append(ticker)\n",
    "        \n",
    "    with open(\"S&P_500tickers.pkl\", \"wb\") as f:\n",
    "        pickle.dump(tickers, f)\n",
    "        \n",
    "    return tickers\n",
    "\n",
    "#save_SP500()"
   ]
  },
  {
   "cell_type": "code",
   "execution_count": 4,
   "metadata": {
    "ExecuteTime": {
     "end_time": "2017-08-21T17:10:57.537814Z",
     "start_time": "2017-08-21T17:10:55.578096Z"
    }
   },
   "outputs": [],
   "source": [
    "def get_data_from_yahoo(reload_data=False):\n",
    "    if reload_data:\n",
    "        tickers = save_SP500()\n",
    "    else:\n",
    "        with open(\"S&P_500tickers.pkl\", \"rb\") as f:\n",
    "            tickers = pickle.load(f)\n",
    "            \n",
    "    if not os.path.exists(\"stock_prices/\"):\n",
    "        os.makedirs(\"stock_prices/\")\n",
    "        \n",
    "    start = dt.datetime(2010, 1, 1)\n",
    "    end = dt.datetime(2017, 7, 15)\n",
    "    \n",
    "    for ticker in tickers:\n",
    "        ticker_fname = \"stock_prices/{}_data.csv\".format(ticker)\n",
    "        if not os.path.exists(ticker_fname):\n",
    "            try:\n",
    "                df = web.get_data_yahoo(ticker.replace('.', '-'), start=start, end=end)\n",
    "                df.to_csv(ticker_fname)\n",
    "            except:\n",
    "                print(\"Failed to get data for ticker: {0}\".format(ticker))\n",
    "        else:\n",
    "            pass\n",
    "            #print(\"Found data file for {0}\".format(ticker))\n",
    "        \n",
    "get_data_from_yahoo()"
   ]
  },
  {
   "cell_type": "code",
   "execution_count": 39,
   "metadata": {
    "ExecuteTime": {
     "end_time": "2017-08-21T17:47:08.651774Z",
     "start_time": "2017-08-21T17:46:51.728750Z"
    }
   },
   "outputs": [
    {
     "name": "stdout",
     "output_type": "stream",
     "text": [
      "0\n",
      "50\n",
      "100\n",
      "150\n",
      "200\n",
      "250\n",
      "300\n",
      "350\n",
      "400\n",
      "450\n",
      "                  MMM        ABT  ABBV        ACN       ATVI        AYI  \\\n",
      "Date                                                                      \n",
      "2010-01-04  68.747681  21.297834   NaN  35.391899  10.328080  34.313091   \n",
      "2010-01-05  68.317101  21.125759   NaN  35.610626  10.346360  34.598793   \n",
      "2010-01-06  69.285927  21.243080   NaN  35.989201  10.291521  35.094002   \n",
      "2010-01-07  69.335602  21.419062   NaN  35.955547  10.044743  36.189209   \n",
      "2010-01-08  69.824188  21.528568   NaN  35.812534   9.962484  36.322529   \n",
      "\n",
      "                 ADBE   AMD        AAP        AES    ...            VMC  \\\n",
      "Date                                                 ...                  \n",
      "2010-01-04  37.090000  9.70  39.580647  11.940555    ...      49.414333   \n",
      "2010-01-05  37.700001  9.71  39.345402  11.818265    ...      49.601749   \n",
      "2010-01-06  37.619999  9.57  39.688480  11.695979    ...      50.463909   \n",
      "2010-01-07  36.889999  9.47  39.678669  11.704714    ...      49.826664   \n",
      "2010-01-08  36.689999  9.43  39.835491  12.036637    ...      49.339367   \n",
      "\n",
      "                  WMT        WBA        DIS         WM        WAT        WEC  \\\n",
      "Date                                                                           \n",
      "2010-01-04  44.424107  31.721933  28.954742  26.431879  61.630001  19.173763   \n",
      "2010-01-05  43.981754  31.466799  28.882519  26.315815  60.790001  18.923153   \n",
      "2010-01-06  43.883450  31.228678  28.729029  26.308075  60.900002  19.115940   \n",
      "2010-01-07  43.908028  31.415764  28.738056  26.369974  61.160000  19.077377   \n",
      "2010-01-08  43.686840  31.458305  28.783205  26.493790  61.209999  19.189188   \n",
      "\n",
      "                  WFC        HCN        WDC  \n",
      "Date                                         \n",
      "2010-01-04  22.680447  29.555841  40.082546  \n",
      "2010-01-05  23.303072  29.971937  41.145275  \n",
      "2010-01-06  23.336287  29.824287  41.180698  \n",
      "2010-01-07  24.183065  29.884693  40.374798  \n",
      "2010-01-08  23.958918  29.575979  40.578484  \n",
      "\n",
      "[5 rows x 484 columns]\n"
     ]
    }
   ],
   "source": [
    "def compile_data(ignore, csv_folder=\"stock_prices/\", \n",
    "                 ticker_names=\"S&P_500tickers.pkl\"):\n",
    "    \n",
    "    with open(ticker_names, \"rb\") as f:\n",
    "        tickers = pickle.load(f)\n",
    "\n",
    "    compiled_df = pd.DataFrame()\n",
    "\n",
    "    for i, ticker in enumerate(tickers):\n",
    "        \n",
    "        # Sometimes when scraping we can't get all the data. Can either\n",
    "        # manually scrape it later, or ignore it like we're doing now\n",
    "        if ticker in ignore:\n",
    "            continue\n",
    "  \n",
    "        df = pd.read_csv(csv_folder + \"{0}_data.csv\".format(ticker))\n",
    "    \n",
    "        # Index all the data via the dates\n",
    "        df.set_index(\"Date\", inplace=True)\n",
    "        df.rename(columns = {\"Adj Close\": ticker}, inplace=True)\n",
    "        df.drop([\"Open\", \"High\", \"Low\", \"Close\", \"Volume\"], 1, inplace=True)\n",
    "        \n",
    "        if compiled_df.empty:\n",
    "            compiled_df = df\n",
    "        else:\n",
    "            compiled_df = compiled_df.join(df, how=\"outer\")\n",
    "\n",
    "        if i % 50 == 0:\n",
    "            print(i)\n",
    "#     print(compiled_df.head())\n",
    "    \n",
    "    compiled_df.to_csv(\"S&P500_joined_adj-close.csv\")\n",
    "\n",
    "    \n",
    "ignore = [\n",
    "    \"HLT\", \"LVLT\", \"STI\", \"WU\", \"WRK\", \"WY\",  \"WHR\", \"WFM\", \"WMB\", \"WLTW\", \n",
    "    \"WYN\", \"WYNN\", \"XEL\", \"XRX\", \"XLNX\", \"XL\", \"XYL\", \"YUM\", \"ZBH\", \"ZION\", \n",
    "    \"ZTS\"\n",
    "]\n",
    "compile_data(ignore)"
   ]
  },
  {
   "cell_type": "code",
   "execution_count": null,
   "metadata": {
    "collapsed": true
   },
   "outputs": [],
   "source": []
  },
  {
   "cell_type": "code",
   "execution_count": null,
   "metadata": {
    "collapsed": true
   },
   "outputs": [],
   "source": []
  }
 ],
 "metadata": {
  "kernelspec": {
   "display_name": "Python 3",
   "language": "python",
   "name": "python3"
  },
  "language_info": {
   "codemirror_mode": {
    "name": "ipython",
    "version": 3
   },
   "file_extension": ".py",
   "mimetype": "text/x-python",
   "name": "python",
   "nbconvert_exporter": "python",
   "pygments_lexer": "ipython3",
   "version": "3.6.2"
  },
  "toc": {
   "colors": {
    "hover_highlight": "#DAA520",
    "navigate_num": "#000000",
    "navigate_text": "#333333",
    "running_highlight": "#FF0000",
    "selected_highlight": "#FFD700",
    "sidebar_border": "#EEEEEE",
    "wrapper_background": "#FFFFFF"
   },
   "moveMenuLeft": true,
   "nav_menu": {
    "height": "12px",
    "width": "252px"
   },
   "navigate_menu": true,
   "number_sections": true,
   "sideBar": true,
   "threshold": 4,
   "toc_cell": false,
   "toc_section_display": "block",
   "toc_window_display": false,
   "widenNotebook": false
  }
 },
 "nbformat": 4,
 "nbformat_minor": 2
}
