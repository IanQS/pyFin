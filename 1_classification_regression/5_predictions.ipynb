{
 "cells": [
  {
   "cell_type": "code",
   "execution_count": 6,
   "metadata": {
    "ExecuteTime": {
     "end_time": "2017-08-26T19:56:01.840189Z",
     "start_time": "2017-08-26T19:56:01.825962Z"
    }
   },
   "outputs": [
    {
     "name": "stdout",
     "output_type": "stream",
     "text": [
      "The autoreload extension is already loaded. To reload it, use:\n",
      "  %reload_ext autoreload\n"
     ]
    }
   ],
   "source": [
    "import io, os, sys, types\n",
    "\n",
    "from sklearn import svm, neighbors\n",
    "from sklearn.model_selection import train_test_split\n",
    "from sklearn.ensemble import VotingClassifier, RandomForestClassifier\n",
    "from sklearn.externals import joblib\n",
    "\n",
    "%load_ext autoreload\n",
    "%autoreload 1"
   ]
  },
  {
   "cell_type": "markdown",
   "metadata": {},
   "source": [
    "# Classifier"
   ]
  },
  {
   "cell_type": "code",
   "execution_count": 4,
   "metadata": {
    "ExecuteTime": {
     "end_time": "2017-08-26T19:55:46.283138Z",
     "start_time": "2017-08-26T19:55:46.058307Z"
    },
    "collapsed": true
   },
   "outputs": [],
   "source": [
    "# %load scripts/4_pre_processing.py\n",
    "\n",
    "# Handle the plotting\n",
    "import matplotlib.pyplot as plt\n",
    "from matplotlib import style\n",
    "from matplotlib.finance import candlestick_ohlc\n",
    "import matplotlib.dates as mdates\n",
    "style.use(\"seaborn-deep\")\n",
    "\n",
    "# For data processing\n",
    "import pandas as pd\n",
    "import datetime as dt\n",
    "import numpy as np\n",
    "import pickle\n",
    "\n",
    "# For getting the data\n",
    "import pandas_datareader.data as web\n",
    "\n",
    "import os\n",
    "from collections import Counter\n",
    "\n",
    "def process_data_for_labels(src, ticker, num_days):\n",
    "    df = pd.read_csv(src, index_col=0)\n",
    "    tickers = df.columns.values.tolist()\n",
    "    df.fillna(0, inplace=True)\n",
    "    \n",
    "    for i in range(1,num_days+1):\n",
    "        col_name = '{}_{}d'.format(ticker,i)\n",
    "        df[col_name] = (df[ticker].shift(-i) - df[ticker]) / df[ticker]\n",
    "        \n",
    "    df.fillna(0, inplace=True)\n",
    "    return tickers, df\n",
    "\n",
    "def classify(*args):\n",
    "    \"\"\"\n",
    "    return 0,1,2 so that we can construct matrices for our \"labels\" to allow us\n",
    "    to use categorical cross entropy function\n",
    "    \"\"\"\n",
    "    cols = [c for c in args]\n",
    "    tol = 0.02\n",
    "    for col in cols:\n",
    "        if col > tol:\n",
    "            return 0\n",
    "        if col < -tol:\n",
    "            return 2\n",
    "    return 1\n",
    "\n",
    "def extract_featuresets_clf(src, ticker, num_days, plot=False):\n",
    "    tickers, df = process_data_for_labels(src, ticker, num_days)\n",
    "    col_name = '{}_target'.format(ticker)\n",
    "\n",
    "    df[col_name] = list(\n",
    "        map(\n",
    "            classify, \n",
    "            *[df['{}_{}d'.format(ticker, i)] for i in range(1, num_days+1)]\n",
    "        )\n",
    "    )\n",
    "\n",
    "    # Just getting an idea of the underlying y distribution\n",
    "    vals = df[col_name].values.tolist()\n",
    "    str_vals = [str(i) for i in vals]\n",
    "    \n",
    "    if plot:\n",
    "        plt.hist(df[col_name].values, bins=\"auto\")\n",
    "        plt.title('{}'.format(Counter(str_vals)))\n",
    "        plt.show()\n",
    "    \n",
    "    # Error checking\n",
    "    df.fillna(0, inplace=True)\n",
    "    df = df.replace([np.inf, -np.inf], np.nan)\n",
    "    df.dropna(inplace=True)\n",
    "    \n",
    "    # Creating the X values\n",
    "    df_vals = df[[ticker for ticker in tickers]].pct_change()\n",
    "    df_vals = df_vals.replace([np.inf, -np.inf], 0)\n",
    "    df_vals.fillna(0, inplace=True)\n",
    "    X = df_vals.values\n",
    "    y = df[col_name].values\n",
    "    \n",
    "    return X,y,df\n",
    "\n",
    "src = 'S&P500_joined_adj-close.csv'\n",
    "ticker = \"AAPL\"\n",
    "num_days = 7"
   ]
  },
  {
   "cell_type": "code",
   "execution_count": 5,
   "metadata": {
    "ExecuteTime": {
     "end_time": "2017-08-26T19:55:54.122080Z",
     "start_time": "2017-08-26T19:55:46.285854Z"
    }
   },
   "outputs": [
    {
     "name": "stdout",
     "output_type": "stream",
     "text": [
      "Accuracy:  0.415611814346\n"
     ]
    },
    {
     "data": {
      "image/png": "[encoded data removed]",
      "text/plain": [
       "<matplotlib.figure.Figure at 0x7f4d42a1e160>"
      ]
     },
     "metadata": {},
     "output_type": "display_data"
    }
   ],
   "source": [
    "def train_classifier(src, ticker, num_days, voting=False):\n",
    "    X, y, df = extract_featuresets_clf(src, ticker, num_days)\n",
    "    X_train, X_test, y_train, y_test = train_test_split(X, y, test_size=0.25)\n",
    "    \n",
    "    if not voting:\n",
    "        clf = neighbors.KNeighborsClassifier()\n",
    "    else:\n",
    "        clf = VotingClassifier([\n",
    "            (\"LSVC\", svm.LinearSVC()),\n",
    "            (\"KNN\", neighbors.KNeighborsClassifier()),\n",
    "            (\"R-Forest\", RandomForestClassifier())])\n",
    "    clf.fit(X_train, y_train)\n",
    "\n",
    "    accuracy = clf.score(X_test, y_test)\n",
    "    print(\"Accuracy: \", accuracy)\n",
    "    \n",
    "    predictions = clf.predict(X_test)\n",
    "    pd.Series(predictions).value_counts().plot(kind=\"bar\")\n",
    "    plt.show()\n",
    "    \n",
    "train_classifier(src, ticker, num_days, voting=True)"
   ]
  },
  {
   "cell_type": "markdown",
   "metadata": {},
   "source": [
    "# Regression"
   ]
  },
  {
   "cell_type": "markdown",
   "metadata": {},
   "source": [
    "** Discussion ** \n",
    "\n",
    "1. Linear Regression: assumptions\n",
    "    \n",
    "    * Linear relationship - the time series is probably not linear\n",
    "    \n",
    "    * Multivariate normality - don't think it can be modelled by a normal distribution\n",
    "    \n",
    "    * No or little multicollinearity.- the data is obviously related between time instances\n",
    "    \n",
    "    * No auto-correlation.\n",
    "    \n",
    "    * Homoscedasticity.\n",
    "    \n",
    "    Discussion for Linear Regression is based on [statistics solutions](http://www.statisticssolutions.com/assumptions-of-linear-regression/)\n",
    "    \n",
    "2. ARIMA and ARMA\n",
    "\n",
    "    Discussion to come based on [Analysis of Financial Time Series](http://faculty.chicagobooth.edu/ruey.tsay/teaching/)"
   ]
  },
  {
   "cell_type": "code",
   "execution_count": 34,
   "metadata": {
    "ExecuteTime": {
     "end_time": "2017-08-26T20:21:57.062477Z",
     "start_time": "2017-08-26T20:21:56.587402Z"
    }
   },
   "outputs": [
    {
     "name": "stdout",
     "output_type": "stream",
     "text": [
      "                  AAPL     AAPL_1d     AAPL_2d     AAPL_3d     AAPL_4d  \\\n",
      "Date                                                                     \n",
      "2010-01-04   27.505054   27.505054   27.505054   27.505054   27.505054   \n",
      "2010-01-05   27.552608   27.552608   27.552608   27.552608   27.552608   \n",
      "2010-01-06   27.114347   27.114347   27.114347   27.114347   27.114347   \n",
      "2010-01-07   27.064222   27.064222   27.154189   27.064222   27.064222   \n",
      "2010-01-08   27.244156   27.244156   27.123988   26.981542   27.244156   \n",
      "2010-01-11   27.003820   27.003820   26.850235   26.924564   26.922528   \n",
      "2010-01-12   26.696650   26.696650   26.884936   26.895431   26.788222   \n",
      "2010-01-13   27.073221   27.073221   26.994822   26.818746   27.023417   \n",
      "2010-01-14   26.916422   26.916422   26.691508   27.006816   27.058119   \n",
      "2010-01-15   26.466595   26.466595   27.052013   27.105351   27.014421   \n",
      "2010-01-19   27.637430   27.637430   27.424729   27.197030   26.751593   \n",
      "2010-01-20   27.212029   27.212029   26.976830   26.456314   26.366992   \n",
      "2010-01-21   26.741631   26.741631   26.078456   26.085313   26.180955   \n",
      "2010-01-22   25.415281   25.415281   25.757154   25.994063   26.174852   \n",
      "2010-01-25   26.099028   26.099028   26.283454   26.428042   26.224334   \n",
      "2010-01-26   26.467880   26.467880   26.592549   26.266102   25.870575   \n",
      "2010-01-27   26.717218   26.717218   26.165214   25.671473   25.510390   \n",
      "2010-01-28   25.613209   25.613209   25.148601   25.108115   25.124181   \n",
      "2010-01-29   24.683992   24.683992   24.855567   24.961171   25.122252   \n",
      "2010-02-01   25.027143   25.027143   25.099761   25.268339   25.121931   \n",
      "2010-02-02   25.172379   25.172379   25.388936   25.153527   25.145386   \n",
      "2010-02-03   25.605494   25.605494   25.144101   25.136388   25.089478   \n",
      "2010-02-04   24.682707   24.682707   24.901836   24.917473   24.991802   \n",
      "2010-02-05   25.120964   25.120964   25.034856   25.094834   25.090443   \n",
      "2010-02-08   24.948748   24.948748   25.081769   25.080270   25.193582   \n",
      "2010-02-09   25.214790   25.214790   25.146031   25.275194   25.394719   \n",
      "2010-02-10   25.077271   25.077271   25.305396   25.454695   25.626380   \n",
      "2010-02-11   25.533520   25.533520   25.643407   25.809416   25.865110   \n",
      "2010-02-12   25.753294   25.753294   25.947364   25.975639   26.001988   \n",
      "2010-02-16   26.141434   26.141434   26.086812   26.084886   26.043437   \n",
      "...                ...         ...         ...         ...         ...   \n",
      "2017-06-02  154.841934  154.841934  154.084908  154.005224  154.194481   \n",
      "2017-06-05  153.327881  153.327881  153.586869  153.978663  154.079933   \n",
      "2017-06-06  153.845856  153.845856  154.304055  154.330617  152.847275   \n",
      "2017-06-07  154.762253  154.762253  154.572998  152.514414  150.598602   \n",
      "2017-06-08  154.383743  154.383743  151.390495  149.210719  148.412185   \n",
      "2017-06-09  148.397247  148.397247  146.624206  146.421666  145.964298   \n",
      "2017-06-12  144.851166  144.851166  145.433876  145.153315  144.796383   \n",
      "2017-06-13  146.016586  146.016586  145.304390  144.778122  144.011967   \n",
      "2017-06-14  144.592194  144.592194  144.158890  143.343760  143.949715   \n",
      "2017-06-15  143.725586  143.725586  142.719544  143.735555  143.912357   \n",
      "2017-06-16  141.713501  141.713501  143.740540  143.974614  144.305813   \n",
      "2017-06-19  145.767578  145.767578  145.105171  145.169917  145.142528   \n",
      "2017-06-20  144.442764  144.442764  144.871086  144.934179  145.127586   \n",
      "2017-06-21  145.299408  145.299408  145.179886  145.355860  145.329300   \n",
      "2017-06-22  145.060364  145.060364  145.384086  145.339264  144.796394   \n",
      "2017-06-23  145.707809  145.707809  145.478714  144.708405  144.846195   \n",
      "2017-06-26  145.249619  145.249619  144.208703  144.558991  144.198735   \n",
      "2017-06-27  143.167786  143.167786  144.213677  143.848440  143.750492   \n",
      "2017-06-28  145.259567  145.259567  144.188766  143.944728  143.693218   \n",
      "2017-06-29  143.117966  143.117966  143.287308  143.171102  143.259918   \n",
      "2017-06-30  143.456650  143.456650  143.197670  143.307236  143.023350   \n",
      "2017-07-03  142.938690  142.938690  143.232528  142.878916  143.063190   \n",
      "2017-07-05  143.526367  143.526367  142.849029  143.104691  143.451664   \n",
      "2017-07-06  142.171692  142.171692  142.893852  143.426763  143.810257   \n",
      "2017-07-07  143.616013  143.616013  144.054299  144.356445  144.559815   \n",
      "2017-07-10  144.492584  144.492584  144.726662  144.874415  145.453808   \n",
      "2017-07-11  144.960739  144.960739  145.065330  145.774216  146.444912   \n",
      "2017-07-12  145.169922  145.169922  146.180954  146.939636  146.939636   \n",
      "2017-07-13  147.191986  147.191986  147.824494  147.824494  147.824494   \n",
      "2017-07-14  148.457001  148.457001  148.457001  148.457001  148.457001   \n",
      "\n",
      "               AAPL_5d     AAPL_6d     AAPL_7d  \n",
      "Date                                            \n",
      "2010-01-04   27.505054   27.505054   27.505054  \n",
      "2010-01-05   27.552608   27.552608   27.552608  \n",
      "2010-01-06   27.114347   27.114347   27.114347  \n",
      "2010-01-07   27.064222   27.064222   27.064222  \n",
      "2010-01-08   27.244156   27.244156   27.244156  \n",
      "2010-01-11   27.003820   27.003820   27.003820  \n",
      "2010-01-12   26.958064   26.696650   26.696650  \n",
      "2010-01-13   27.061139   27.007888   27.073221  \n",
      "2010-01-14   26.994821   26.731565   26.641202  \n",
      "2010-01-15   26.694593   26.595332   26.577125  \n",
      "2010-01-19   26.621080   26.595547   26.612928  \n",
      "2010-01-20   26.387170   26.442178   26.323754  \n",
      "2010-01-21   26.288208   26.175708   25.962606  \n",
      "2010-01-22   26.062523   25.832768   25.717679  \n",
      "2010-01-25   25.916265   25.768078   25.682978  \n",
      "2010-01-26   25.701888   25.613637   25.612474  \n",
      "2010-01-27   25.442788   25.469906   25.357449  \n",
      "2010-01-28   25.220443   25.130821   25.129413  \n",
      "2010-01-29   25.034343   25.048780   25.034490  \n",
      "2010-02-01   25.121737   25.092906   25.110318  \n",
      "2010-02-02   25.106058   25.124180   25.117479  \n",
      "2010-02-03   25.114541   25.108329   25.169071  \n",
      "2010-02-04   25.008896   25.096333   25.190185  \n",
      "2010-02-05   25.179059   25.274765   25.398574  \n",
      "2010-02-08   25.305525   25.444843   25.528750  \n",
      "2010-02-09   25.544062   25.625417   25.690505  \n",
      "2010-02-10   25.707542   25.769790   25.791119  \n",
      "2010-02-11   25.908294   25.910094   25.888429  \n",
      "2010-02-12   25.985408   25.947580   25.858869  \n",
      "2010-02-16   25.986437   25.876465   25.864009  \n",
      "...                ...         ...         ...  \n",
      "2017-06-02  154.232333  153.259819  152.058583  \n",
      "2017-06-05  152.943396  151.594691  150.797819  \n",
      "2017-06-06  151.248053  150.376142  149.549864  \n",
      "2017-06-07  149.682199  148.833865  148.104111  \n",
      "2017-06-08  147.648187  146.994420  146.240003  \n",
      "2017-06-09  145.516556  144.882713  145.009123  \n",
      "2017-06-12  144.179807  144.444435  144.444196  \n",
      "2017-06-13  144.363089  144.376368  144.508231  \n",
      "2017-06-14  144.048325  144.256839  144.371628  \n",
      "2017-06-15  144.189767  144.334867  144.531001  \n",
      "2017-06-16  144.456723  144.665237  144.748720  \n",
      "2017-06-19  145.255585  145.254590  144.956475  \n",
      "2017-06-20  145.151993  144.821292  144.883902  \n",
      "2017-06-21  144.896997  144.957425  144.694646  \n",
      "2017-06-22  144.889029  144.593852  144.431394  \n",
      "2017-06-23  144.500549  144.326566  144.128298  \n",
      "2017-06-26  144.050318  143.865046  143.816664  \n",
      "2017-06-27  143.588132  143.577838  143.376960  \n",
      "2017-06-28  143.659848  143.411822  143.440992  \n",
      "2017-06-29  143.042273  143.137896  143.331423  \n",
      "2017-06-30  143.141882  143.366999  143.594676  \n",
      "2017-07-03  143.349069  143.617681  143.839430  \n",
      "2017-07-05  143.753479  143.989553  144.447043  \n",
      "2017-07-06  144.082190  144.600489  145.151420  \n",
      "2017-07-07  145.086249  145.648041  145.648041  \n",
      "2017-07-10  146.054446  146.054446  146.054446  \n",
      "2017-07-11  146.444912  146.444912  146.444912  \n",
      "2017-07-12  146.939636  146.939636  146.939636  \n",
      "2017-07-13  147.824494  147.824494  147.824494  \n",
      "2017-07-14  148.457001  148.457001  148.457001  \n",
      "\n",
      "[1896 rows x 8 columns]\n"
     ]
    }
   ],
   "source": [
    "def extract_featuresets_reg(src, ticker, num_days):\n",
    "    \"\"\"\n",
    "    we're creating num_days new features by taking the mean across those num_days\n",
    "    \n",
    "    if the index of the col is less than the number of days we just put the value there\n",
    "    \"\"\"\n",
    "    df = pd.read_csv(src, index_col=0)[ticker].to_frame()\n",
    "    df.fillna(0, inplace=True)\n",
    "    data = df.values\n",
    "    for i in range(1, num_days+1):\n",
    "        col_name = \"{0}_{1}d\".format(ticker, i)\n",
    "        df[col_name] = [ np.mean(data[j: j+i]) if j > i else data[j][0] for j in range(len(data)) ]\n",
    "        \n",
    "    # We want to keep this as similar to clf interface as possible.\n",
    "    # No sense overcomplicating things\n",
    "    return None, None, df\n",
    "    \n",
    "\n",
    "def train_regression(src, ticker, num_days):\n",
    "    \"\"\"\n",
    "    The plan here is to use a bunch of regression models to predict\n",
    "    the change in price.\n",
    "    \n",
    "    Discussion of models to be used provided above\n",
    "\n",
    "    \"\"\"\n",
    "    \n",
    "    _, _, df = extract_featuresets_reg(src, ticker, num_days)\n",
    "    \n",
    "    \n",
    "\n",
    "num_days = 7\n",
    "train_regression(src, ticker, num_days)"
   ]
  },
  {
   "cell_type": "code",
   "execution_count": null,
   "metadata": {
    "collapsed": true
   },
   "outputs": [],
   "source": []
  }
 ],
 "metadata": {
  "kernelspec": {
   "display_name": "Python 3",
   "language": "python",
   "name": "python3"
  },
  "language_info": {
   "codemirror_mode": {
    "name": "ipython",
    "version": 3
   },
   "file_extension": ".py",
   "mimetype": "text/x-python",
   "name": "python",
   "nbconvert_exporter": "python",
   "pygments_lexer": "ipython3",
   "version": "3.6.3"
  },
  "toc": {
   "colors": {
    "hover_highlight": "#DAA520",
    "navigate_num": "#000000",
    "navigate_text": "#333333",
    "running_highlight": "#FF0000",
    "selected_highlight": "#FFD700",
    "sidebar_border": "#EEEEEE",
    "wrapper_background": "#FFFFFF"
   },
   "moveMenuLeft": true,
   "nav_menu": {
    "height": "12px",
    "width": "252px"
   },
   "navigate_menu": true,
   "number_sections": true,
   "sideBar": true,
   "threshold": 4,
   "toc_cell": false,
   "toc_section_display": "block",
   "toc_window_display": false,
   "widenNotebook": false
  },
  "varInspector": {
   "cols": {
    "lenName": 16,
    "lenType": 16,
    "lenVar": 40
   },
   "kernels_config": {
    "python": {
     "delete_cmd_postfix": "",
     "delete_cmd_prefix": "del ",
     "library": "var_list.py",
     "varRefreshCmd": "print(var_dic_list())"
    },
    "r": {
     "delete_cmd_postfix": ") ",
     "delete_cmd_prefix": "rm(",
     "library": "var_list.r",
     "varRefreshCmd": "cat(var_dic_list()) "
    }
   },
   "types_to_exclude": [
    "module",
    "function",
    "builtin_function_or_method",
    "instance",
    "_Feature"
   ],
   "window_display": true
  }
 },
 "nbformat": 4,
 "nbformat_minor": 2
}
