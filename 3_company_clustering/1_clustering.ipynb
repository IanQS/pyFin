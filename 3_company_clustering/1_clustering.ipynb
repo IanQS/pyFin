{
 "cells": [
  {
   "cell_type": "code",
   "execution_count": 1,
   "metadata": {
    "ExecuteTime": {
     "end_time": "2017-09-04T17:48:49.207764Z",
     "start_time": "2017-09-04T17:48:48.809974Z"
    },
    "collapsed": true
   },
   "outputs": [],
   "source": [
    "import pandas as pd\n",
    "import numpy as np\n",
    "\n",
    "import os\n",
    "import requests"
   ]
  },
  {
   "cell_type": "code",
   "execution_count": 2,
   "metadata": {
    "ExecuteTime": {
     "end_time": "2017-09-04T17:48:49.849192Z",
     "start_time": "2017-09-04T17:48:49.808675Z"
    },
    "collapsed": true
   },
   "outputs": [],
   "source": [
    "with open(\"S&P_500tickers.pkl\", \"rb\") as f:\n",
    "    cmp = pd.read_pickle(f)\n",
    "    \n",
    "df = pd.DataFrame(index=cmp, columns=[\"Description\", \"TF-IDF_LSA\"])\n",
    "\n",
    "overall_descriptions = []\n",
    "cmp_folder_name = \"company_desc/\"\n",
    "for curr_cmp in df.index:\n",
    "    f_name = cmp_folder_name + curr_cmp + \".txt\"\n",
    "    \n",
    "    with open(f_name, \"r\") as f:\n",
    "        overall_descriptions.append(f.read())\n",
    "df[\"Description\"] = overall_descriptions"
   ]
  },
  {
   "cell_type": "code",
   "execution_count": 3,
   "metadata": {
    "ExecuteTime": {
     "end_time": "2017-09-04T17:48:50.675787Z",
     "start_time": "2017-09-04T17:48:50.353161Z"
    },
    "collapsed": true
   },
   "outputs": [],
   "source": [
    "from sklearn.feature_extraction.text import TfidfVectorizer\n",
    "from sklearn.pipeline import make_pipeline\n",
    "from sklearn.preprocessing import Normalizer\n",
    "\n",
    "from sklearn.decomposition import TruncatedSVD\n",
    "\n",
    "from sklearn.cluster import KMeans, MiniBatchKMeans"
   ]
  },
  {
   "cell_type": "code",
   "execution_count": 4,
   "metadata": {
    "ExecuteTime": {
     "end_time": "2017-09-04T17:48:55.018410Z",
     "start_time": "2017-09-04T17:48:51.073424Z"
    }
   },
   "outputs": [
    {
     "name": "stdout",
     "output_type": "stream",
     "text": [
      "Explained variance of the SVD step: 100%\n",
      "Dimensionality 10388 -> 500 reduced by 0.9518675394686177\n"
     ]
    }
   ],
   "source": [
    "vectorizer = TfidfVectorizer(max_df=0.5, min_df=2, \n",
    "                             stop_words='english', use_idf=True)\n",
    "new_dim = 500\n",
    "svd = TruncatedSVD(new_dim)\n",
    "normalizer = Normalizer(copy=False)\n",
    "lsa = make_pipeline(vectorizer, svd, normalizer)\n",
    "\n",
    "X = lsa.fit_transform(overall_descriptions)\n",
    "\n",
    "\n",
    "explained_variance = svd.explained_variance_ratio_.sum()\n",
    "exp_print = \"Explained variance of the SVD step: {}%\"\n",
    "print(exp_print.format(int(explained_variance * 100)))\n",
    "print(\"Dimensionality {0} -> {1} reduced by {2}\".format(\n",
    "    len(overall_descriptions[0]), new_dim, abs(new_dim - len(overall_descriptions[0])) / len(overall_descriptions[0]))\n",
    "     )"
   ]
  },
  {
   "cell_type": "code",
   "execution_count": 5,
   "metadata": {
    "ExecuteTime": {
     "end_time": "2017-09-04T17:48:56.429166Z",
     "start_time": "2017-09-04T17:48:56.419759Z"
    }
   },
   "outputs": [],
   "source": [
    "df[\"TF-IDF_LSA\"] = X.tolist()"
   ]
  },
  {
   "cell_type": "code",
   "execution_count": 6,
   "metadata": {
    "ExecuteTime": {
     "end_time": "2017-09-04T17:48:58.246335Z",
     "start_time": "2017-09-04T17:48:58.081051Z"
    },
    "collapsed": true
   },
   "outputs": [],
   "source": [
    "from sklearn.cluster import KMeans, SpectralClustering\n",
    "from sklearn import metrics\n",
    "\n",
    "import matplotlib\n",
    "import matplotlib.pyplot as plt\n",
    "\n",
    "plt.style.use(\"seaborn\")"
   ]
  },
  {
   "cell_type": "code",
   "execution_count": 7,
   "metadata": {
    "ExecuteTime": {
     "end_time": "2017-09-04T17:49:02.122290Z",
     "start_time": "2017-09-04T17:48:58.691608Z"
    },
    "collapsed": true
   },
   "outputs": [],
   "source": [
    "assignment = []\n",
    "\n",
    "for k in [10, 25, 50]:\n",
    "    classifier = KMeans(n_clusters=k, max_iter=100, verbose=0)\n",
    "    classifier.fit(X)\n",
    "    assignment.append(classifier.labels_)"
   ]
  },
  {
   "cell_type": "code",
   "execution_count": 8,
   "metadata": {
    "ExecuteTime": {
     "end_time": "2017-09-04T17:49:02.166450Z",
     "start_time": "2017-09-04T17:49:02.145223Z"
    },
    "collapsed": true
   },
   "outputs": [],
   "source": [
    "df[\"Industry_V0\"] = assignment[0]\n",
    "df[\"Industry_V1\"] = assignment[1]\n",
    "df[\"Industry_V2\"] = assignment[2]"
   ]
  },
  {
   "cell_type": "code",
   "execution_count": 13,
   "metadata": {
    "ExecuteTime": {
     "end_time": "2017-09-04T17:50:42.369380Z",
     "start_time": "2017-09-04T17:50:42.359358Z"
    }
   },
   "outputs": [
    {
     "name": "stdout",
     "output_type": "stream",
     "text": [
      "Index(['ALL', 'AIG', 'AIZ', 'CAT', 'DHI', 'HOG', 'RF'], dtype='object')\n",
      "Index(['AYI', 'ALK', 'ALLE', 'AAL', 'APH', 'BA', 'BWA', 'DLPH', 'DAL', 'FLIR',\n",
      "       'GRMN', 'GD', 'HRS', 'HON', 'IR', 'JCI', 'LLL', 'LMT', 'NOC', 'RTN',\n",
      "       'COL', 'LUV', 'TEL', 'TXT', 'TDG', 'UAL', 'UTX'],\n",
      "      dtype='object')\n",
      "Index(['AAP', 'APD', 'AME', 'AMAT', 'ARNC', 'BLL', 'CMI', 'DE', 'ETN', 'FAST',\n",
      "       'FTV', 'GPC', 'GT', 'GWW', 'ITW', 'ISRG', 'JBHT', 'LEG', 'LKQ', 'NUE',\n",
      "       'PCAR', 'PH', 'PPG', 'PX', 'ROK', 'SHW', 'SNA', 'SWK', 'URI', 'WHR'],\n",
      "      dtype='object')\n"
     ]
    }
   ],
   "source": [
    "# Assignments done based on tf-idf vectorizer, then LSA, then normalizer\n",
    "\n",
    "\"\"\"\n",
    "Evaluation metrics:\n",
    "\n",
    "1) use NMF to see the descriptions and see if they make sense\n",
    "\n",
    "2) Use the correlation matrix and see if they are highly (+, -) related\n",
    "\"\"\""
   ]
  },
  {
   "cell_type": "code",
   "execution_count": 57,
   "metadata": {
    "ExecuteTime": {
     "end_time": "2017-09-04T18:27:48.306443Z",
     "start_time": "2017-09-04T18:27:48.216458Z"
    }
   },
   "outputs": [
    {
     "name": "stdout",
     "output_type": "stream",
     "text": [
      "<bound method NDFrame.keys of                                             Description  \\\n",
      "ALB   Albemarle Corporation, incorporated on Novembe...   \n",
      "MO    Altria Group, Inc., incorporated on August 27,...   \n",
      "AAL   American Airlines Group Inc., incorporated on ...   \n",
      "ADM   Archer-Daniels-Midland Company, incorporated o...   \n",
      "AVY   Avery Dennison Corporation (Avery Dennison), i...   \n",
      "BLL   Ball Corporation (Ball), incorporated on Decem...   \n",
      "BBY   Best Buy Co., Inc., incorporated on October 20...   \n",
      "BF.B  Brown-Forman Corporation, incorporated on Octo...   \n",
      "CPB   Campbell Soup Company, incorporated on Novembe...   \n",
      "CCL   Carnival Corporation, incorporated on November...   \n",
      "CF    CF Industries Holdings, Inc., incorporated on ...   \n",
      "CMG   Chipotle Mexican Grill, Inc. (Chipotle), incor...   \n",
      "CHD   Church & Dwight Co., Inc., incorporated on Dec...   \n",
      "CLX   The Clorox Company, incorporated on September ...   \n",
      "KO    The Coca-Cola Company, incorporated on Septemb...   \n",
      "CL    Colgate-Palmolive Company (Colgate), incorpora...   \n",
      "CAG   Conagra Brands, Inc., formerly ConAgra Foods, ...   \n",
      "STZ   Constellation Brands, Inc., incorporated on De...   \n",
      "COTY  Coty Inc., incorporated on January 20, 1995, i...   \n",
      "CSX   CSX Corporation, incorporated on November 15, ...   \n",
      "DRI   Darden Restaurants, Inc., incorporated on Marc...   \n",
      "DPS   Dr Pepper Snapple Group, Inc., incorporated on...   \n",
      "DD    E. I. du Pont de Nemours and Company (DuPont),...   \n",
      "EMN   Eastman Chemical Company (Eastman), incorporat...   \n",
      "EL    The Estee Lauder Companies Inc., incorporated ...   \n",
      "FMC   FMC Corporation, incorporated on August 10, 19...   \n",
      "FBHS  Fortune Brands Home & Security, Inc., incorpor...   \n",
      "FCX   Freeport-McMoRan Inc. (FCX), incorporated on N...   \n",
      "GIS   General Mills, Inc., incorporated on June 20, ...   \n",
      "GT    The Goodyear Tire & Rubber Company (Goodyear),...   \n",
      "...                                                 ...   \n",
      "MDLZ  Mondelez International, Inc., incorporated on ...   \n",
      "MON   Monsanto Company (Monsanto), incorporated on F...   \n",
      "MNST  Monster Beverage Corporation, incorporated on ...   \n",
      "MOS   The Mosaic Company, incorporated on March 25, ...   \n",
      "NWL   Newell Brands Inc., incorporated on February 2...   \n",
      "NEM   Newmont Mining Corporation, incorporated on De...   \n",
      "NSC   Norfolk Southern Corporation, incorporated on ...   \n",
      "NUE   Nucor Corporation (Nucor), incorporated on Mar...   \n",
      "PCAR  PACCAR Inc (PACCAR), incorporated on November ...   \n",
      "PKG   Packaging Corporation of America (PCA), incorp...   \n",
      "PEP   PepsiCo, Inc., incorporated on November 13, 19...   \n",
      "PM    Philip Morris International Inc., incorporated...   \n",
      "PG    The Procter & Gamble Company, incorporated on ...   \n",
      "RSG   Republic Services, Inc., incorporated on Decem...   \n",
      "RCL   Royal Caribbean Cruises Ltd., incorporated on ...   \n",
      "SHW   The Sherwin-Williams Company (Sherwin-Williams...   \n",
      "SBUX  Starbucks Corporation (Starbucks), incorporate...   \n",
      "SYY   Sysco Corporation (Sysco), incorporated on May...   \n",
      "TSN   Tyson Foods, Inc., incorporated on January 31,...   \n",
      "ULTA  Ulta Beauty, Inc. is a holding company for the...   \n",
      "UNP   Union Pacific Corporation, incorporated on Feb...   \n",
      "VLO   Valero Energy Corporation (Valero), incorporat...   \n",
      "VMC   Vulcan Materials Company, incorporated on Febr...   \n",
      "DIS   The Walt Disney Company, incorporated on July ...   \n",
      "WM    Waste Management, Inc. (WM), incorporated on A...   \n",
      "WRK   WestRock Company, incorporated on March 6, 201...   \n",
      "WHR   Whirlpool Corporation, incorporated on August ...   \n",
      "WFM   Whole Foods Market, Inc., incorporated on Augu...   \n",
      "WYN   Wyndham Worldwide Corporation, incorporated on...   \n",
      "YUM   YUM! Brands, Inc., incorporated on May 30, 199...   \n",
      "\n",
      "                                             TF-IDF_LSA  Industry_V0  \\\n",
      "ALB   [0.15656805150496292, -0.08368276535885641, -0...            0   \n",
      "MO    [0.13373674873845884, -0.03527628764674102, 0....            0   \n",
      "AAL   [0.1111981119158003, -0.035685162014319295, 0....            0   \n",
      "ADM   [0.14869140218076618, -0.050178279624747225, 0...            0   \n",
      "AVY   [0.1901174739025748, -0.06409214093632334, -0....            0   \n",
      "BLL   [0.15986912388600352, -0.08341535615022738, -0...            0   \n",
      "BBY   [0.15959422925298047, -0.02010765176018794, -0...            0   \n",
      "BF.B  [0.04896979184469018, -0.020717620863823286, 0...            0   \n",
      "CPB   [0.0503276260213551, -0.014876140006713506, -0...            0   \n",
      "CCL   [0.07680498805183289, -0.022668663942939808, 0...            0   \n",
      "CF    [0.049465362275916906, -0.03570458630211392, 0...            0   \n",
      "CMG   [0.0729531103146697, -0.011574386262415425, -0...            0   \n",
      "CHD   [0.11272913354551559, -0.03447851659190659, -0...            0   \n",
      "CLX   [0.1222124412346307, -0.04841104016817879, -0....            0   \n",
      "KO    [0.10256209726035871, -0.04910418738653948, -0...            0   \n",
      "CL    [0.08533374967733613, -0.022760836935257225, -...            0   \n",
      "CAG   [0.17196311057924413, -0.05477702599997692, 0....            0   \n",
      "STZ   [0.07595747079316906, -0.034141077437677685, 0...            0   \n",
      "COTY  [0.13688106873866712, -0.031198485527469823, -...            0   \n",
      "CSX   [0.16766311236864534, -0.09077729174339094, 0....            0   \n",
      "DRI   [0.08320373931491885, -0.019606284237380537, -...            0   \n",
      "DPS   [0.14688654499756462, -0.07471090513718945, -0...            0   \n",
      "DD    [0.21343311746825988, -0.08108785409557297, -0...            0   \n",
      "EMN   [0.1382863094753987, -0.06055490108164277, -0....            0   \n",
      "EL    [0.12799903483592262, -0.04646869417974548, -0...            0   \n",
      "FMC   [0.12069655074479822, -0.042506468948218426, -...            0   \n",
      "FBHS  [0.20500780987220785, -0.06183655400800821, -0...            0   \n",
      "FCX   [0.0852224097350845, -0.08338908386934187, 0.0...            0   \n",
      "GIS   [0.08849259873875007, -0.030151786312973577, -...            0   \n",
      "GT    [0.15396532968415977, -0.05792952510601584, -0...            0   \n",
      "...                                                 ...          ...   \n",
      "MDLZ  [0.12583247151616808, -0.05680466107463023, -0...            0   \n",
      "MON   [0.05233935927061315, -0.0195031235561463, -0....            0   \n",
      "MNST  [0.08778372922151775, -0.061325896546334954, 0...            0   \n",
      "MOS   [0.09811113586874959, -0.06504863661896428, 0....            0   \n",
      "NWL   [0.21465126457285663, -0.029041675453550877, -...            0   \n",
      "NEM   [0.15480912085987697, -0.0988812074208116, 0.1...            0   \n",
      "NSC   [0.1988234270538218, -0.11159077777439283, 0.1...            0   \n",
      "NUE   [0.06771202348858908, -0.04521873024012396, -0...            0   \n",
      "PCAR  [0.2179364297527693, -0.020273999467830962, 0....            0   \n",
      "PKG   [0.09551661305577933, -0.04531830019849467, -0...            0   \n",
      "PEP   [0.11859858413068697, -0.0450870045437132, -0....            0   \n",
      "PM    [0.11161066140214135, -0.03246257963551768, 0....            0   \n",
      "PG    [0.1434770103148703, -0.02670686113390189, -0....            0   \n",
      "RSG   [0.17350641178245704, -0.08416820076850512, 0....            0   \n",
      "RCL   [0.09651534198870863, -0.03818835628693931, 0....            0   \n",
      "SHW   [0.13293485609419442, -0.026252288146946263, -...            0   \n",
      "SBUX  [0.09586267256330354, -0.028598243494692137, -...            0   \n",
      "SYY   [0.13605137294218123, -0.042955158378039135, -...            0   \n",
      "TSN   [0.12612510415978948, -0.0407536359382873, -0....            0   \n",
      "ULTA  [0.06803761551405714, -0.021730925297126884, -...            0   \n",
      "UNP   [0.17395097663121237, -0.10802746362878686, 0....            0   \n",
      "VLO   [0.18113601612725339, -0.13306243310710206, 0....            0   \n",
      "VMC   [0.1046558253070558, -0.05992014229705381, 0.0...            0   \n",
      "DIS   [0.109791817926652, -0.03159641361044723, -0.0...            0   \n",
      "WM    [0.1791369135152027, -0.13142694852848322, 0.1...            0   \n",
      "WRK   [0.14608415117183582, -0.05246186956573533, -0...            0   \n",
      "WHR   [0.1332941494527451, -0.04216147506356666, -0....            0   \n",
      "WFM   [0.13358529926496102, -0.06195385585252427, 0....            0   \n",
      "WYN   [0.09010450392443102, -0.025751565285411327, 0...            0   \n",
      "YUM   [0.051537706633971905, -0.017668688987263523, ...            0   \n",
      "\n",
      "      Industry_V1  Industry_V2  \n",
      "ALB             4           27  \n",
      "MO              8            0  \n",
      "AAL             1           37  \n",
      "ADM             4           13  \n",
      "AVY            24           27  \n",
      "BLL             2           42  \n",
      "BBY            14           49  \n",
      "BF.B           24            0  \n",
      "CPB             8           13  \n",
      "CCL            22           20  \n",
      "CF              4           20  \n",
      "CMG             8           38  \n",
      "CHD            24           11  \n",
      "CLX            24           11  \n",
      "KO              4           32  \n",
      "CL             24           11  \n",
      "CAG             8           13  \n",
      "STZ             8            0  \n",
      "COTY           24           11  \n",
      "CSX             4           20  \n",
      "DRI             8           38  \n",
      "DPS             4           19  \n",
      "DD             24           27  \n",
      "EMN             4           27  \n",
      "EL             24           11  \n",
      "FMC             4           27  \n",
      "FBHS           24            4  \n",
      "FCX            19           39  \n",
      "GIS             8           13  \n",
      "GT              2           23  \n",
      "...           ...          ...  \n",
      "MDLZ            8           19  \n",
      "MON             9            3  \n",
      "MNST            4            2  \n",
      "MOS            19           39  \n",
      "NWL            24           11  \n",
      "NEM            12           39  \n",
      "NSC            19           34  \n",
      "NUE             2           45  \n",
      "PCAR            2           23  \n",
      "PKG            24           27  \n",
      "PEP             4           13  \n",
      "PM             22           48  \n",
      "PG             24           11  \n",
      "RSG             4           20  \n",
      "RCL            22           20  \n",
      "SHW             2           49  \n",
      "SBUX            8           13  \n",
      "SYY             8           13  \n",
      "TSN             8           13  \n",
      "ULTA           12           11  \n",
      "UNP            19           34  \n",
      "VLO            19           40  \n",
      "VMC             4           34  \n",
      "DIS             7           15  \n",
      "WM              4            2  \n",
      "WRK            24           42  \n",
      "WHR             2           49  \n",
      "WFM             8            0  \n",
      "WYN            12           24  \n",
      "YUM             8           38  \n",
      "\n",
      "[84 rows x 5 columns]>\n"
     ]
    }
   ],
   "source": [
    "from sklearn.decomposition import NMF\n",
    "\n",
    "holder = []\n",
    "inspection = df[df[\"Industry_V0\"] == 0]\n",
    "print(inspection.keys)\n",
    "#group_inspection = inspection.corr()"
   ]
  },
  {
   "cell_type": "code",
   "execution_count": null,
   "metadata": {
    "collapsed": true
   },
   "outputs": [],
   "source": []
  }
 ],
 "metadata": {
  "kernelspec": {
   "display_name": "Python 3",
   "language": "python",
   "name": "python3"
  },
  "language_info": {
   "codemirror_mode": {
    "name": "ipython",
    "version": 3
   },
   "file_extension": ".py",
   "mimetype": "text/x-python",
   "name": "python",
   "nbconvert_exporter": "python",
   "pygments_lexer": "ipython3",
   "version": "3.6.2"
  },
  "toc": {
   "colors": {
    "hover_highlight": "#DAA520",
    "navigate_num": "#000000",
    "navigate_text": "#333333",
    "running_highlight": "#FF0000",
    "selected_highlight": "#FFD700",
    "sidebar_border": "#EEEEEE",
    "wrapper_background": "#FFFFFF"
   },
   "moveMenuLeft": true,
   "nav_menu": {
    "height": "12px",
    "width": "252px"
   },
   "navigate_menu": true,
   "number_sections": true,
   "sideBar": true,
   "threshold": 4,
   "toc_cell": false,
   "toc_section_display": "block",
   "toc_window_display": false,
   "widenNotebook": false
  }
 },
 "nbformat": 4,
 "nbformat_minor": 2
}
