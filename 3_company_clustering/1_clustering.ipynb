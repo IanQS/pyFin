{
 "cells": [
  {
   "cell_type": "code",
   "execution_count": 1,
   "metadata": {
    "ExecuteTime": {
     "end_time": "2017-08-24T05:35:48.682447Z",
     "start_time": "2017-08-24T05:35:48.288426Z"
    },
    "collapsed": true
   },
   "outputs": [],
   "source": [
    "import pandas as pd\n",
    "import numpy as np\n",
    "\n",
    "import os\n",
    "import requests"
   ]
  },
  {
   "cell_type": "code",
   "execution_count": 2,
   "metadata": {
    "ExecuteTime": {
     "end_time": "2017-08-24T05:35:48.721037Z",
     "start_time": "2017-08-24T05:35:48.684628Z"
    }
   },
   "outputs": [],
   "source": [
    "with open(\"S&P_500tickers.pkl\", \"rb\") as f:\n",
    "    cmp = pd.read_pickle(f)\n",
    "    \n",
    "df = pd.DataFrame(index=cmp, columns=[\"Description\", \"TF-IDF_LSA\"])\n",
    "\n",
    "overall_descriptions = []\n",
    "cmp_folder_name = \"company_desc/\"\n",
    "for curr_cmp in df.index:\n",
    "    f_name = cmp_folder_name + curr_cmp + \".txt\"\n",
    "    \n",
    "    with open(f_name, \"r\") as f:\n",
    "        overall_descriptions.append(f.read())\n",
    "df[\"Description\"] = overall_descriptions"
   ]
  },
  {
   "cell_type": "code",
   "execution_count": 3,
   "metadata": {
    "ExecuteTime": {
     "end_time": "2017-08-24T05:35:49.304971Z",
     "start_time": "2017-08-24T05:35:48.722884Z"
    },
    "collapsed": true
   },
   "outputs": [],
   "source": [
    "from sklearn.feature_extraction.text import TfidfVectorizer\n",
    "from sklearn.pipeline import make_pipeline\n",
    "from sklearn.preprocessing import Normalizer\n",
    "\n",
    "from sklearn.decomposition import TruncatedSVD\n",
    "\n",
    "from sklearn.cluster import KMeans, MiniBatchKMeans"
   ]
  },
  {
   "cell_type": "code",
   "execution_count": 4,
   "metadata": {
    "ExecuteTime": {
     "end_time": "2017-08-24T05:35:55.506498Z",
     "start_time": "2017-08-24T05:35:49.307495Z"
    }
   },
   "outputs": [
    {
     "name": "stdout",
     "output_type": "stream",
     "text": [
      "Explained variance of the SVD step: 99%\n"
     ]
    }
   ],
   "source": [
    "vectorizer = TfidfVectorizer(max_df=0.5, min_df=2, \n",
    "                             stop_words='english', use_idf=True)\n",
    "svd = TruncatedSVD(500)\n",
    "normalizer = Normalizer(copy=False)\n",
    "lsa = make_pipeline(vectorizer, svd, normalizer)\n",
    "\n",
    "X = lsa.fit_transform(overall_descriptions)\n",
    "\n",
    "\n",
    "explained_variance = svd.explained_variance_ratio_.sum()\n",
    "exp_print = \"Explained variance of the SVD step: {}%\"\n",
    "print(exp_print.format(int(explained_variance * 100)))"
   ]
  },
  {
   "cell_type": "code",
   "execution_count": 11,
   "metadata": {
    "ExecuteTime": {
     "end_time": "2017-08-24T05:37:02.949744Z",
     "start_time": "2017-08-24T05:37:02.854017Z"
    }
   },
   "outputs": [
    {
     "name": "stdout",
     "output_type": "stream",
     "text": [
      "MMM      [0.3123167260825056, -0.13200870725526853, -0....\n",
      "ABT      [0.18759489067030977, -0.05942228979796618, -0...\n",
      "ABBV     [0.07446043008835211, -0.026481151525808183, -...\n",
      "ACN      [0.32569195827268266, 0.02318840236383187, -0....\n",
      "ATVI     [0.10932024518122525, -0.011418382379160106, -...\n",
      "AYI      [0.15861368106571397, -0.06806452267446089, -0...\n",
      "ADBE     [0.14696068381326877, -0.014989544286570441, -...\n",
      "AMD      [0.10180190571788512, -0.02400159053932905, -0...\n",
      "AAP      [0.18769798265622903, -0.08550942000281991, -0...\n",
      "AES      [0.1607086305248354, -0.11487560962063018, 0.1...\n",
      "AET      [0.2838450160064189, 0.16146903963917805, -0.1...\n",
      "AMG      [0.21517639429794214, 0.1973565146114312, 0.09...\n",
      "AFL      [0.21128481093810197, 0.1498009005659911, -0.0...\n",
      "A        [0.1692153548792112, -0.055674607938386356, -0...\n",
      "APD      [0.24222994711354215, -0.13037075545372045, 0....\n",
      "AKAM     [0.25102828947246125, -0.0368300767541033, -0....\n",
      "ALK      [0.09471732472883951, -0.03258742293606123, -0...\n",
      "ALB      [0.15656805150496325, -0.0836827653588564, -0....\n",
      "ARE      [0.19741193988361336, 0.021307828791162848, 0....\n",
      "ALXN     [0.07198854600046971, -0.0350917424996351, -0....\n",
      "ALGN     [0.11969054448874503, -0.03220824137771855, -0...\n",
      "ALLE     [0.20153600595233517, -0.05664864557854619, -0...\n",
      "AGN      [0.14395815046958615, -0.04015042260171528, -0...\n",
      "ADS      [0.2660479985032187, 0.06582283057963868, -0.0...\n",
      "LNT      [0.2518854982947843, -0.2593569282549662, 0.31...\n",
      "ALL      [0.17295640632589607, 0.1272121416295017, 0.02...\n",
      "GOOGL    [0.10348245792959106, -0.017769685803101714, -...\n",
      "GOOG     [0.10348245792959106, -0.01776968580310171, -0...\n",
      "MO       [0.13373674873845898, -0.03527628764674078, 0....\n",
      "AMZN     [0.1167171794092967, -0.011282909706288393, -0...\n",
      "                               ...                        \n",
      "V        [0.23513556207286088, 0.1055235653487053, -0.0...\n",
      "VNO      [0.12131075939722948, -0.01685924467745677, 0....\n",
      "VMC      [0.10465582530705586, -0.05992014229705369, 0....\n",
      "WMT      [0.1559375781290095, -0.020385164167108717, -0...\n",
      "WBA      [0.17513177067863983, -0.005494593705182081, -...\n",
      "DIS      [0.10979181792665244, -0.03159641361044739, -0...\n",
      "WM       [0.1791369135152032, -0.1314269485284824, 0.11...\n",
      "WAT      [0.1976636792801593, -0.08433532210419756, -0....\n",
      "WEC      [0.2857700219273507, -0.3018275004462587, 0.34...\n",
      "WFC      [0.380909194932187, 0.4677601318761039, 0.1866...\n",
      "HCN      [0.18406967647675185, -0.005198816035568961, -...\n",
      "WDC      [0.23325822518875752, -0.07794061295788982, -0...\n",
      "WU       [0.20135557348352692, 0.08032141281557326, -0....\n",
      "WRK      [0.14608415117183682, -0.0524618695657353, -0....\n",
      "WY       [0.19587090435076943, -0.08576456078545866, 0....\n",
      "WHR      [0.13329414945274518, -0.04216147506356664, -0...\n",
      "WFM      [0.13358529926496077, -0.061953855852523984, 0...\n",
      "WMB      [0.2694898533049208, -0.3127187637580632, 0.38...\n",
      "WLTW     [0.27401101065513667, 0.17429402547681444, -0....\n",
      "WYN      [0.09010450392443128, -0.025751565285411077, 0...\n",
      "WYNN     [0.10831355382415711, -0.05421251771395202, 0....\n",
      "XEL      [0.2798166022450833, -0.28307790676491634, 0.3...\n",
      "XRX      [0.2469241006752871, 0.021543536995876838, -0....\n",
      "XLNX     [0.20118194872359269, -0.07479443016722304, -0...\n",
      "XL       [0.29165501109192943, 0.14569020087173695, -0....\n",
      "XYL      [0.25556834115546034, -0.13973667542867035, -0...\n",
      "YUM      [0.05153770663397191, -0.017668688987263318, -...\n",
      "ZBH      [0.11101577892650655, -0.04325946994568787, -0...\n",
      "ZION     [0.3199580668883033, 0.4281595767111102, 0.252...\n",
      "ZTS      [0.08062578456964149, -0.024713488907180975, -...\n",
      "Name: TF-IDF_LSA, Length: 505, dtype: object\n"
     ]
    }
   ],
   "source": [
    "df[\"TF-IDF_LSA\"] = X.tolist()\n",
    "\n",
    "print(df[\"TF-IDF_LSA\"])"
   ]
  },
  {
   "cell_type": "code",
   "execution_count": 6,
   "metadata": {
    "ExecuteTime": {
     "end_time": "2017-08-24T05:35:55.831038Z",
     "start_time": "2017-08-24T05:35:55.550347Z"
    },
    "collapsed": true
   },
   "outputs": [],
   "source": [
    "from sklearn.cluster import KMeans, SpectralClustering\n",
    "from sklearn import metrics\n",
    "\n",
    "import matplotlib\n",
    "import matplotlib.pyplot as plt\n",
    "\n",
    "plt.style.use(\"seaborn\")"
   ]
  },
  {
   "cell_type": "code",
   "execution_count": 7,
   "metadata": {
    "ExecuteTime": {
     "end_time": "2017-08-24T05:35:59.064268Z",
     "start_time": "2017-08-24T05:35:55.835545Z"
    }
   },
   "outputs": [],
   "source": [
    "assignment = []\n",
    "\n",
    "for k in [10, 25, 50]:\n",
    "    classifier = KMeans(n_clusters=k, max_iter=100, verbose=0)\n",
    "    classifier.fit(X)\n",
    "    assignment.append(classifier.labels_)"
   ]
  },
  {
   "cell_type": "code",
   "execution_count": 8,
   "metadata": {
    "ExecuteTime": {
     "end_time": "2017-08-24T05:35:59.123124Z",
     "start_time": "2017-08-24T05:35:59.086132Z"
    }
   },
   "outputs": [],
   "source": [
    "df[\"Industry_0\"] = assignment[0]\n",
    "df[\"Industry_1\"] = assignment[1]\n",
    "df[\"Industry_2\"] = assignment[2]"
   ]
  },
  {
   "cell_type": "code",
   "execution_count": 9,
   "metadata": {
    "ExecuteTime": {
     "end_time": "2017-08-24T05:35:59.236939Z",
     "start_time": "2017-08-24T05:35:59.131089Z"
    }
   },
   "outputs": [
    {
     "name": "stdout",
     "output_type": "stream",
     "text": [
      "                                            Description  TF-IDF_LSA  \\\n",
      "ANDV  Andeavor, formerly Tesoro Corporation, incorpo...    0.225748   \n",
      "COG   Cabot Oil & Gas Corporation, incorporated on D...    0.202067   \n",
      "CHK   Chesapeake Energy Corporation (Chesapeake), in...    0.208597   \n",
      "CVX   Chevron Corporation (Chevron), incorporated on...    0.210575   \n",
      "COP   ConocoPhillips, incorporated on November 16, 2...    0.255927   \n",
      "DVN   Devon Energy Corporation, incorporated on May ...    0.271693   \n",
      "EQT   EQT Corporation (EQT), incorporated on June 10...    0.235475   \n",
      "FCX   Freeport-McMoRan Inc. (FCX), incorporated on N...    0.085222   \n",
      "HES   Hess Corporation, incorporated on February 7, ...    0.228446   \n",
      "KMI   Kinder Morgan, Inc., incorporated on August 23...    0.234784   \n",
      "MRO   Marathon Oil Corporation, incorporated on May ...    0.246736   \n",
      "MPC   Marathon Petroleum Corporation, incorporated o...    0.144940   \n",
      "OXY   Occidental Petroleum Corporation (Occidental),...    0.256384   \n",
      "OKE   ONEOK, Inc., incorporated on May 16, 1997, is ...    0.232105   \n",
      "PSX   Phillips 66, incorporated on November 10, 2011...    0.260545   \n",
      "RSG   Republic Services, Inc., incorporated on Decem...    0.173506   \n",
      "VLO   Valero Energy Corporation (Valero), incorporat...    0.181136   \n",
      "WM    Waste Management, Inc. (WM), incorporated on A...    0.179137   \n",
      "WY    Weyerhaeuser Company, incorporated on January ...    0.195871   \n",
      "WMB   The Williams Companies, Inc., incorporated on ...    0.269490   \n",
      "\n",
      "      Industry_0  Industry_1  Industry_2  \n",
      "ANDV           8           0          17  \n",
      "COG            8           0          11  \n",
      "CHK            8           0          11  \n",
      "CVX            8           0          21  \n",
      "COP            8           0          21  \n",
      "DVN            8           0          11  \n",
      "EQT            8           0          11  \n",
      "FCX            0           0          17  \n",
      "HES            8           0          11  \n",
      "KMI            8           0          17  \n",
      "MRO            8           0          21  \n",
      "MPC            8           0          17  \n",
      "OXY            8           0          11  \n",
      "OKE            8           0          11  \n",
      "PSX            8           0          17  \n",
      "RSG            3           0          38  \n",
      "VLO            8           0          17  \n",
      "WM             3           0          38  \n",
      "WY             8           0          21  \n",
      "WMB            8           0          11  \n"
     ]
    }
   ],
   "source": [
    "print(df[df[\"Industry_1\"] == 0])"
   ]
  },
  {
   "cell_type": "code",
   "execution_count": null,
   "metadata": {
    "collapsed": true
   },
   "outputs": [],
   "source": []
  }
 ],
 "metadata": {
  "kernelspec": {
   "display_name": "Python 3",
   "language": "python",
   "name": "python3"
  },
  "language_info": {
   "codemirror_mode": {
    "name": "ipython",
    "version": 3
   },
   "file_extension": ".py",
   "mimetype": "text/x-python",
   "name": "python",
   "nbconvert_exporter": "python",
   "pygments_lexer": "ipython3",
   "version": "3.6.2"
  },
  "toc": {
   "colors": {
    "hover_highlight": "#DAA520",
    "navigate_num": "#000000",
    "navigate_text": "#333333",
    "running_highlight": "#FF0000",
    "selected_highlight": "#FFD700",
    "sidebar_border": "#EEEEEE",
    "wrapper_background": "#FFFFFF"
   },
   "moveMenuLeft": true,
   "nav_menu": {
    "height": "12px",
    "width": "252px"
   },
   "navigate_menu": true,
   "number_sections": true,
   "sideBar": true,
   "threshold": 4,
   "toc_cell": false,
   "toc_section_display": "block",
   "toc_window_display": false,
   "widenNotebook": false
  }
 },
 "nbformat": 4,
 "nbformat_minor": 2
}
