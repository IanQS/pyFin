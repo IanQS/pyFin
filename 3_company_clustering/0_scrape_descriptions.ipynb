{
 "cells": [
  {
   "cell_type": "code",
   "execution_count": 2,
   "metadata": {
    "ExecuteTime": {
     "end_time": "2017-08-24T03:40:15.727730Z",
     "start_time": "2017-08-24T03:40:00.675816Z"
    },
    "collapsed": true
   },
   "outputs": [],
   "source": [
    "import bs4 as bs\n",
    "import pandas as pd\n",
    "import numpy as np\n",
    "\n",
    "import os\n",
    "import requests"
   ]
  },
  {
   "cell_type": "code",
   "execution_count": 3,
   "metadata": {
    "ExecuteTime": {
     "end_time": "2017-08-24T03:40:22.708245Z",
     "start_time": "2017-08-24T03:40:15.729685Z"
    }
   },
   "outputs": [
    {
     "name": "stdout",
     "output_type": "stream",
     "text": [
      "505\n"
     ]
    }
   ],
   "source": [
    "with open(\"S&P_500tickers.pkl\", \"rb\") as f:\n",
    "    cmp = pd.read_pickle(f)\n",
    "    \n",
    "df = pd.DataFrame(index=cmp, columns=[\"Description\", \"Industry\"])\n",
    "\n",
    "scrape_base = \"https://www.reuters.com/finance/stocks/companyProfile?symbol=\"\n",
    "\n",
    "cmp_folder_name = \"company_desc/\"\n",
    "if not os.path.exists(cmp_folder_name):\n",
    "    os.mkdir(cmp_folder_name)\n",
    "\n",
    "overall_descriptions = []\n",
    "\n",
    "for curr_cmp in df.index:\n",
    "    f_name = cmp_folder_name + curr_cmp + \".txt\"\n",
    "    \n",
    "    \n",
    "    if not os.path.exists(f_name):\n",
    "        print(curr_cmp)\n",
    "        \"\"\"\n",
    "        We're not actually going to run anything here. Just download all\n",
    "        the data then run it again\n",
    "        \"\"\"\n",
    "        \n",
    "        # Scraping the data\n",
    "        response = requests.get(scrape_base + curr_cmp)\n",
    "        soup = bs.BeautifulSoup(response.text,\"lxml\")\n",
    "        data = soup.find_all(\"div\", {\"class\": \"moduleBody\"})[1]\n",
    "        data = data.get_text().split(\"\\n\")[1]\n",
    "        \n",
    "        # Some heuristic error checks\n",
    "        with open(f_name, \"w\") as f:\n",
    "            f.write(data)\n",
    "                \n",
    "        \n",
    "    else:\n",
    "        # Data exists, so pull from here\n",
    "        with open(f_name, \"r\") as f:\n",
    "            overall_descriptions.append(f.read())"
   ]
  },
  {
   "cell_type": "code",
   "execution_count": null,
   "metadata": {
    "collapsed": true
   },
   "outputs": [],
   "source": []
  }
 ],
 "metadata": {
  "kernelspec": {
   "display_name": "Python 3",
   "language": "python",
   "name": "python3"
  },
  "language_info": {
   "codemirror_mode": {
    "name": "ipython",
    "version": 3
   },
   "file_extension": ".py",
   "mimetype": "text/x-python",
   "name": "python",
   "nbconvert_exporter": "python",
   "pygments_lexer": "ipython3",
   "version": "3.6.2"
  },
  "toc": {
   "colors": {
    "hover_highlight": "#DAA520",
    "navigate_num": "#000000",
    "navigate_text": "#333333",
    "running_highlight": "#FF0000",
    "selected_highlight": "#FFD700",
    "sidebar_border": "#EEEEEE",
    "wrapper_background": "#FFFFFF"
   },
   "moveMenuLeft": true,
   "nav_menu": {
    "height": "12px",
    "width": "252px"
   },
   "navigate_menu": true,
   "number_sections": true,
   "sideBar": true,
   "threshold": 4,
   "toc_cell": false,
   "toc_section_display": "block",
   "toc_window_display": false,
   "widenNotebook": false
  }
 },
 "nbformat": 4,
 "nbformat_minor": 2
}
